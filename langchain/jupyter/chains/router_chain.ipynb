{
 "cells": [
  {
   "cell_type": "markdown",
   "id": "c3e2458f-d038-4845-93a0-d4ad830f9f90",
   "metadata": {},
   "source": [
    "# LangChain 核心模块学习：Chains\n",
    "\n",
    "对于简单的大模型应用，单独使用语言模型（LLMs）是可以的。\n",
    "\n",
    "**但更复杂的大模型应用需要将 `LLMs` 和 `Chat Models` 链接在一起 - 要么彼此链接，要么与其他组件链接。**\n",
    "\n",
    "LangChain 为这种“链式”应用程序提供了 `Chain` 接口。\n",
    "\n",
    "LangChain 以通用方式定义了 `Chain`，它是对组件进行调用序列的集合，其中可以包含其他链。"
   ]
  },
  {
   "cell_type": "code",
   "id": "24efe291-8745-4e78-bdb4-648e60d7bac8",
   "metadata": {},
   "source": [
    "! pip install -U langchain"
   ],
   "outputs": [],
   "execution_count": null
  },
  {
   "cell_type": "markdown",
   "id": "c81a7df0-26c7-4eb8-92f1-cc54445cf507",
   "metadata": {},
   "source": [
    "## LLMChain\n",
    "\n",
    "LLMChain 是 LangChain 中最简单的链，作为其他复杂 Chains 和 Agents 的内部调用，被广泛应用。\n",
    "\n",
    "一个LLMChain由PromptTemplate和语言模型（LLM or Chat Model）组成。它使用直接传入（或 memory 提供）的 key-value 来规范化生成 Prompt Template（提示模板），并将生成的 prompt （格式化后的字符串）传递给大模型，并返回大模型输出。\n",
    "\n",
    "![](../images/llm_chain.png)"
   ]
  },
  {
   "cell_type": "markdown",
   "id": "4fbd5ca7-ca54-4701-919c-2857266caefc",
   "metadata": {},
   "source": [
    "## Router Chain: 实现条件判断的大模型调用\n",
    "\n",
    "\n",
    "这段代码构建了一个可定制的链路系统，用户可以提供不同的输入提示，并根据这些提示获取适当的响应。\n",
    "\n",
    "主要逻辑：从`prompt_infos`创建多个`LLMChain`对象，并将它们保存在一个字典中，然后创建一个默认的`ConversationChain`，最后创建一个带有路由功能的`MultiPromptChain`。\n",
    "\n",
    "![](../images/router_chain.png)"
   ]
  },
  {
   "cell_type": "markdown",
   "id": "8b6836f0-213d-4cac-abc9-3617831be3db",
   "metadata": {},
   "source": [
    "### Homework\n",
    "\n",
    "#### 扩展 Demo：实现生物、计算机和汉语言文学老师 PromptTemplates 及对应 Chains"
   ]
  },
  {
   "metadata": {
    "ExecuteTime": {
     "end_time": "2024-07-25T06:11:51.516903Z",
     "start_time": "2024-07-25T06:11:49.622707Z"
    }
   },
   "cell_type": "code",
   "source": [
    "from langchain.chains.router import MultiPromptChain\n",
    "from langchain_openai import OpenAI\n",
    "from langchain.chains import ConversationChain\n",
    "from langchain.chains.llm import LLMChain\n",
    "from langchain.prompts import PromptTemplate"
   ],
   "id": "aaf8c391-9225-4e66-ad4d-d689b53a0379",
   "outputs": [],
   "execution_count": 1
  },
  {
   "metadata": {
    "ExecuteTime": {
     "end_time": "2024-07-25T06:11:54.090841Z",
     "start_time": "2024-07-25T06:11:54.086360Z"
    }
   },
   "cell_type": "code",
   "source": [
    "physics_template = \"\"\"你是一位非常聪明的物理教授。\n",
    "你擅长以简洁易懂的方式回答关于物理的问题。\n",
    "当你不知道某个问题的答案时，你会坦诚承认。\n",
    "\n",
    "这是一个问题：\n",
    "{input}\"\"\"\n",
    "\n",
    "math_template = \"\"\"你是一位很棒的数学家。你擅长回答数学问题。\n",
    "之所以如此出色，是因为你能够将难题分解成各个组成部分，\n",
    "先回答这些组成部分，然后再将它们整合起来回答更广泛的问题。\n",
    "\n",
    "这是一个问题：\n",
    "{input}\"\"\"\n",
    "\n",
    "bio_template = \"\"\"你是一位很棒的生物老师。你擅长回答生物问题。\n",
    "你擅长以简洁易懂的方式回答关于物理的问题。\n",
    "\n",
    "这是一个问题：\n",
    "{input}\"\"\"\n",
    "\n",
    "computer_template = \"\"\"你是一位很棒的计算机老师。你擅长回答计算机问题。\n",
    "你擅长详细回答计算机方面的问题。\n",
    "\n",
    "这是一个问题：\n",
    "{input}\"\"\"\n",
    "\n",
    "yw_template = \"\"\"你是一位很棒的汉语言文学老师。你擅长回答汉语言文学问题。\n",
    "你擅长详细回答汉语言文学的问题。\n",
    "\n",
    "这是一个问题：\n",
    "{input}\"\"\""
   ],
   "id": "33b5061c-391e-4762-91c7-73b57f4ab501",
   "outputs": [],
   "execution_count": 2
  },
  {
   "metadata": {
    "ExecuteTime": {
     "end_time": "2024-07-25T06:11:55.221478Z",
     "start_time": "2024-07-25T06:11:55.217886Z"
    }
   },
   "cell_type": "code",
   "source": [
    "prompt_infos = [\n",
    "    {\n",
    "        \"name\": \"物理\",\n",
    "        \"description\": \"适用于回答物理问题\",\n",
    "        \"prompt_template\": physics_template,\n",
    "    },\n",
    "    {\n",
    "        \"name\": \"数学\",\n",
    "        \"description\": \"适用于回答数学问题\",\n",
    "        \"prompt_template\": math_template,\n",
    "    },\n",
    "    {\n",
    "        \"name\": \"生物\",\n",
    "        \"description\": \"适用于回答生物问题\",\n",
    "        \"prompt_template\": bio_template,\n",
    "    }, {\n",
    "        \"name\": \"计算机\",\n",
    "        \"description\": \"适用于回答计算机问题\",\n",
    "        \"prompt_template\": computer_template,\n",
    "    }, {\n",
    "        \"name\": \"汉语言文学\",\n",
    "        \"description\": \"适用于回答汉语言文学问题\",\n",
    "        \"prompt_template\": yw_template,\n",
    "    },\n",
    "]"
   ],
   "id": "5ef1db6e-3da4-4f9b-9707-0f30aa293dd7",
   "outputs": [],
   "execution_count": 3
  },
  {
   "metadata": {},
   "cell_type": "code",
   "outputs": [],
   "execution_count": null,
   "source": "llm = OpenAI(model_name=\"gpt-3.5-turbo-instruct\")",
   "id": "3983cafe-c2d5-4951-b779-88d844594777"
  },
  {
   "metadata": {
    "ExecuteTime": {
     "end_time": "2024-07-25T06:12:00.575222Z",
     "start_time": "2024-07-25T06:11:59.482749Z"
    }
   },
   "cell_type": "code",
   "source": [
    "# 创建一个空的目标链字典，用于存放根据prompt_infos生成的LLMChain。\n",
    "destination_chains = {}\n",
    "\n",
    "# 遍历prompt_infos列表，为每个信息创建一个LLMChain。\n",
    "for p_info in prompt_infos:\n",
    "    name = p_info[\"name\"]  # 提取名称\n",
    "    prompt_template = p_info[\"prompt_template\"]  # 提取模板\n",
    "    # 创建PromptTemplate对象\n",
    "    prompt = PromptTemplate(template=prompt_template, input_variables=[\"input\"])\n",
    "    # 使用上述模板和llm对象创建LLMChain对象\n",
    "    chain = LLMChain(llm=llm, prompt=prompt)\n",
    "    # 将新创建的chain对象添加到destination_chains字典中\n",
    "    destination_chains[name] = chain\n",
    "\n",
    "# 创建一个默认的ConversationChain\n",
    "default_chain = ConversationChain(llm=llm, output_key=\"text\")"
   ],
   "id": "db8be9f0-1ac2-4ded-8950-6403cfa40004",
   "outputs": [
    {
     "name": "stderr",
     "output_type": "stream",
     "text": [
      "C:\\Users\\ouda2\\Desktop\\work-space\\langchainqs\\venv\\Lib\\site-packages\\langchain_core\\_api\\deprecation.py:139: LangChainDeprecationWarning: The class `LLMChain` was deprecated in LangChain 0.1.17 and will be removed in 1.0. Use RunnableSequence, e.g., `prompt | llm` instead.\n",
      "  warn_deprecated(\n",
      "C:\\Users\\ouda2\\Desktop\\work-space\\langchainqs\\venv\\Lib\\site-packages\\langchain_core\\_api\\deprecation.py:139: LangChainDeprecationWarning: The class `ConversationChain` was deprecated in LangChain 0.2.7 and will be removed in 1.0. Use RunnableWithMessageHistory: https://api.python.langchain.com/en/latest/runnables/langchain_core.runnables.history.RunnableWithMessageHistory.html instead.\n",
      "  warn_deprecated(\n"
     ]
    }
   ],
   "execution_count": 5
  },
  {
   "metadata": {
    "ExecuteTime": {
     "end_time": "2024-07-25T06:12:06.560866Z",
     "start_time": "2024-07-25T06:12:06.556433Z"
    }
   },
   "cell_type": "code",
   "source": "type(default_chain)",
   "id": "ae77b13a-2077-4e80-83f9-a2b1d8398461",
   "outputs": [
    {
     "data": {
      "text/plain": [
       "langchain.chains.conversation.base.ConversationChain"
      ]
     },
     "execution_count": 6,
     "metadata": {},
     "output_type": "execute_result"
    }
   ],
   "execution_count": 6
  },
  {
   "metadata": {},
   "cell_type": "markdown",
   "source": [
    "### 使用 LLMRouterChain 实现条件判断调用\n",
    "\n",
    "这段代码定义了一个chain对象（LLMRouterChain），该对象首先使用router_chain来决定哪个destination_chain应该被执行，如果没有合适的目标链，则默认使用default_chain。"
   ],
   "id": "f5aa4a82-2d96-4124-8896-4e11e5d5c8e9"
  },
  {
   "metadata": {
    "ExecuteTime": {
     "end_time": "2024-07-25T06:12:08.504205Z",
     "start_time": "2024-07-25T06:12:08.501561Z"
    }
   },
   "cell_type": "code",
   "source": [
    "from langchain.chains.router.llm_router import LLMRouterChain, RouterOutputParser\n",
    "from langchain.chains.router.multi_prompt_prompt import MULTI_PROMPT_ROUTER_TEMPLATE"
   ],
   "id": "1c196e6c-e767-4d4f-8327-50ead641bc3a",
   "outputs": [],
   "execution_count": 7
  },
  {
   "metadata": {
    "ExecuteTime": {
     "end_time": "2024-07-25T06:12:09.122022Z",
     "start_time": "2024-07-25T06:12:09.118373Z"
    }
   },
   "cell_type": "code",
   "source": [
    "# 从prompt_infos中提取目标信息并将其转化为字符串列表\n",
    "destinations = [f\"{p['name']}: {p['description']}\" for p in prompt_infos]\n",
    "# 使用join方法将列表转化为字符串，每个元素之间用换行符分隔\n",
    "destinations_str = \"\\n\".join(destinations)\n",
    "# 根据MULTI_PROMPT_ROUTER_TEMPLATE格式化字符串和destinations_str创建路由模板\n",
    "router_template = MULTI_PROMPT_ROUTER_TEMPLATE.format(destinations=destinations_str)\n",
    "# 创建路由的PromptTemplate\n",
    "router_prompt = PromptTemplate(\n",
    "    template=router_template,\n",
    "    input_variables=[\"input\"],\n",
    "    output_parser=RouterOutputParser(),\n",
    ")\n",
    "# 使用上述路由模板和llm对象创建LLMRouterChain对象\n",
    "router_chain = LLMRouterChain.from_llm(llm, router_prompt)"
   ],
   "id": "f5ada86e-e430-412c-828d-b053b630f07c",
   "outputs": [],
   "execution_count": 8
  },
  {
   "metadata": {
    "ExecuteTime": {
     "end_time": "2024-07-25T06:12:10.093620Z",
     "start_time": "2024-07-25T06:12:10.090632Z"
    }
   },
   "cell_type": "code",
   "source": "print(destinations)",
   "id": "8c1013dc-ae1f-468d-96b3-4babe0d50d1f",
   "outputs": [
    {
     "name": "stdout",
     "output_type": "stream",
     "text": [
      "['物理: 适用于回答物理问题', '数学: 适用于回答数学问题', '生物: 适用于回答生物问题', '计算机: 适用于回答计算机问题', '汉语言文学: 适用于回答汉语言文学问题']\n"
     ]
    }
   ],
   "execution_count": 9
  },
  {
   "metadata": {
    "ExecuteTime": {
     "end_time": "2024-07-25T06:12:11.989991Z",
     "start_time": "2024-07-25T06:12:11.986862Z"
    }
   },
   "cell_type": "code",
   "source": "print(destinations_str)",
   "id": "a85ef126-aca1-40c2-8e01-d15af5500785",
   "outputs": [
    {
     "name": "stdout",
     "output_type": "stream",
     "text": [
      "物理: 适用于回答物理问题\n",
      "数学: 适用于回答数学问题\n",
      "生物: 适用于回答生物问题\n",
      "计算机: 适用于回答计算机问题\n",
      "汉语言文学: 适用于回答汉语言文学问题\n"
     ]
    }
   ],
   "execution_count": 10
  },
  {
   "metadata": {
    "ExecuteTime": {
     "end_time": "2024-07-25T06:12:12.768254Z",
     "start_time": "2024-07-25T06:12:12.765051Z"
    }
   },
   "cell_type": "code",
   "source": "print(MULTI_PROMPT_ROUTER_TEMPLATE)",
   "id": "5db81fcb-704a-4250-a6b5-210e4be77af5",
   "outputs": [
    {
     "name": "stdout",
     "output_type": "stream",
     "text": [
      "Given a raw text input to a language model select the model prompt best suited for the input. You will be given the names of the available prompts and a description of what the prompt is best suited for. You may also revise the original input if you think that revising it will ultimately lead to a better response from the language model.\n",
      "\n",
      "<< FORMATTING >>\n",
      "Return a markdown code snippet with a JSON object formatted to look like:\n",
      "```json\n",
      "{{{{\n",
      "    \"destination\": string \\ name of the prompt to use or \"DEFAULT\"\n",
      "    \"next_inputs\": string \\ a potentially modified version of the original input\n",
      "}}}}\n",
      "```\n",
      "\n",
      "REMEMBER: \"destination\" MUST be one of the candidate prompt names specified below OR it can be \"DEFAULT\" if the input is not well suited for any of the candidate prompts.\n",
      "REMEMBER: \"next_inputs\" can just be the original input if you don't think any modifications are needed.\n",
      "\n",
      "<< CANDIDATE PROMPTS >>\n",
      "{destinations}\n",
      "\n",
      "<< INPUT >>\n",
      "{{input}}\n",
      "\n",
      "<< OUTPUT (must include ```json at the start of the response) >>\n",
      "<< OUTPUT (must end with ```) >>\n",
      "\n"
     ]
    }
   ],
   "execution_count": 11
  },
  {
   "metadata": {
    "ExecuteTime": {
     "end_time": "2024-07-25T06:12:16.429575Z",
     "start_time": "2024-07-25T06:12:16.426718Z"
    }
   },
   "cell_type": "code",
   "source": "print(router_template)",
   "id": "f882244c-1fa6-4d74-a44c-578c9fb25e18",
   "outputs": [
    {
     "name": "stdout",
     "output_type": "stream",
     "text": [
      "Given a raw text input to a language model select the model prompt best suited for the input. You will be given the names of the available prompts and a description of what the prompt is best suited for. You may also revise the original input if you think that revising it will ultimately lead to a better response from the language model.\n",
      "\n",
      "<< FORMATTING >>\n",
      "Return a markdown code snippet with a JSON object formatted to look like:\n",
      "```json\n",
      "{{\n",
      "    \"destination\": string \\ name of the prompt to use or \"DEFAULT\"\n",
      "    \"next_inputs\": string \\ a potentially modified version of the original input\n",
      "}}\n",
      "```\n",
      "\n",
      "REMEMBER: \"destination\" MUST be one of the candidate prompt names specified below OR it can be \"DEFAULT\" if the input is not well suited for any of the candidate prompts.\n",
      "REMEMBER: \"next_inputs\" can just be the original input if you don't think any modifications are needed.\n",
      "\n",
      "<< CANDIDATE PROMPTS >>\n",
      "物理: 适用于回答物理问题\n",
      "数学: 适用于回答数学问题\n",
      "生物: 适用于回答生物问题\n",
      "计算机: 适用于回答计算机问题\n",
      "汉语言文学: 适用于回答汉语言文学问题\n",
      "\n",
      "<< INPUT >>\n",
      "{input}\n",
      "\n",
      "<< OUTPUT (must include ```json at the start of the response) >>\n",
      "<< OUTPUT (must end with ```) >>\n",
      "\n"
     ]
    }
   ],
   "execution_count": 12
  },
  {
   "metadata": {
    "ExecuteTime": {
     "end_time": "2024-07-25T06:12:18.484967Z",
     "start_time": "2024-07-25T06:12:18.482268Z"
    }
   },
   "cell_type": "code",
   "source": [
    "# 创建MultiPromptChain对象，其中包含了路由链，目标链和默认链。\n",
    "chain = MultiPromptChain(\n",
    "    router_chain=router_chain,\n",
    "    destination_chains=destination_chains,\n",
    "    default_chain=default_chain,\n",
    "    verbose=True,\n",
    ")"
   ],
   "id": "c2a482e4-5757-4295-a3d8-c3fdd1d4abd2",
   "outputs": [],
   "execution_count": 13
  },
  {
   "metadata": {
    "ExecuteTime": {
     "end_time": "2024-07-25T06:12:30.598631Z",
     "start_time": "2024-07-25T06:12:22.201870Z"
    }
   },
   "cell_type": "code",
   "source": "print(chain.invoke(\"黑体辐射是什么？?\"))",
   "id": "128bb7a0-b176-4b14-835e-8aaa723ab441",
   "outputs": [
    {
     "name": "stdout",
     "output_type": "stream",
     "text": [
      "\n",
      "\n",
      "\u001B[1m> Entering new MultiPromptChain chain...\u001B[0m\n",
      "物理: {'input': '黑体辐射是什么？'}\n",
      "\u001B[1m> Finished chain.\u001B[0m\n",
      "{'input': '黑体辐射是什么？', 'text': '黑体辐射是指一种理想化物体（称为黑体）在热平衡状态下发出的电磁辐射。黑体是一个完全吸收所有入射电磁辐射的物体，不反射或透射任何辐射。也就是说，黑体无论在什么波长上都具有最大吸收率。\\n\\n黑体辐射的特性由普朗克辐射定律描述，它表明黑体在不同温度下发出的辐射光谱。随着温度的升高，黑体辐射的峰值波长会向更短的波长（更高的频率）移动，这就是所谓的“维恩位移定律”。此外，黑体辐射的总能量输出与温度的四次方成正比，这就是“斯特藩-玻尔兹曼定律”。\\n\\n黑体辐射的研究在19世纪末和20世纪初对量子力学的发展起到了至关重要的作用，特别是马克斯·普朗克提出的量子假设，为解决经典物理无法解释的紫外灾变问题提供'}\n"
     ]
    }
   ],
   "execution_count": 14
  },
  {
   "metadata": {
    "ExecuteTime": {
     "end_time": "2024-07-25T06:12:44.072574Z",
     "start_time": "2024-07-25T06:12:34.947532Z"
    }
   },
   "cell_type": "code",
   "source": [
    "print(\n",
    "    chain.invoke(\n",
    "        \"大于40的第一个质数是多少，使得这个质数加一能被3整除？\"\n",
    "    )\n",
    ")"
   ],
   "id": "cd869807-9cec-4bb2-9104-ecc4efce9baa",
   "outputs": [
    {
     "name": "stdout",
     "output_type": "stream",
     "text": [
      "\n",
      "\n",
      "\u001B[1m> Entering new MultiPromptChain chain...\u001B[0m\n",
      "数学: {'input': '大于40的第一个质数是多少，使得这个质数加一能被3整除？'}\n",
      "\u001B[1m> Finished chain.\u001B[0m\n",
      "{'input': '大于40的第一个质数是多少，使得这个质数加一能被3整除？', 'text': '要找到大于40的第一个质数，使得这个质数加一能被3整除，我们可以按照以下步骤进行：\\n\\n1. **找出大于40的质数**：\\n   质数是指只能被1和自身整除的自然数。我们从41开始依次检查每个数是否是质数。\\n\\n2. **检查质数加一是否能被3整除**：\\n   对于找到的每一个质数，我们检查质数加一是否能被3整除（即质数加一后模3结果为0）。\\n\\n接下来我们一步一步来：\\n\\n1. 检查41是否是质数：\\n   - 41不能被2整除（不是偶数）。\\n   - 41不能被3整除（41除以3约等于13.67，不是整数）。\\n   - 41不能被5整除（结尾不是0或5）。\\n\\n   因此，41是质数。\\n\\n2. 检查41加一是否能被3整除：\\n   - 41 + 1 = 42\\n   - 42 ÷ 3 = 14（是整数）\\n\\n   因此，41加一'}\n"
     ]
    }
   ],
   "execution_count": 15
  },
  {
   "metadata": {
    "ExecuteTime": {
     "end_time": "2024-07-25T06:12:50.625544Z",
     "start_time": "2024-07-25T06:12:47.259693Z"
    }
   },
   "cell_type": "code",
   "source": [
    "print(\n",
    "    chain.invoke(\n",
    "        \"什么是蛋白质？\"\n",
    "    )\n",
    ")"
   ],
   "id": "bd37e004-bb24-4929-992c-34407593d86e",
   "outputs": [
    {
     "name": "stdout",
     "output_type": "stream",
     "text": [
      "\n",
      "\n",
      "\u001B[1m> Entering new MultiPromptChain chain...\u001B[0m\n",
      "生物: {'input': '什么是蛋白质？'}\n",
      "\u001B[1m> Finished chain.\u001B[0m\n",
      "{'input': '什么是蛋白质？', 'text': '蛋白质是由氨基酸组成的生物大分子。它们在细胞中扮演着许多重要角色，包括构建和修复组织、催化化学反应（作为酶）、运输分子（如血红蛋白运输氧气）以及调节生理过程（如激素功能）。蛋白质的结构和功能由其氨基酸序列决定，这些序列是由基因编码的。蛋白质在我们的饮食中也是重要的营养成分，主要来源包括肉类、鱼类、蛋类、奶制品和某些植物如豆类。'}\n"
     ]
    }
   ],
   "execution_count": 16
  },
  {
   "metadata": {
    "ExecuteTime": {
     "end_time": "2024-07-25T06:13:03.801235Z",
     "start_time": "2024-07-25T06:12:56.647099Z"
    }
   },
   "cell_type": "code",
   "source": [
    "print(\n",
    "    chain.invoke(\n",
    "        \"计算机由什么组成？\"\n",
    "    )\n",
    ")"
   ],
   "id": "a8eff0c2862d5a1",
   "outputs": [
    {
     "name": "stdout",
     "output_type": "stream",
     "text": [
      "\n",
      "\n",
      "\u001B[1m> Entering new MultiPromptChain chain...\u001B[0m\n",
      "计算机: {'input': '计算机由什么组成？'}\n",
      "\u001B[1m> Finished chain.\u001B[0m\n",
      "{'input': '计算机由什么组成？', 'text': '计算机是一种复杂的机器，由多个硬件和软件组件协同工作来执行各种任务。具体来说，计算机主要由以下几个核心部分组成：\\n\\n### 1. **硬件部分**\\n\\n#### a. **中央处理器（CPU）**\\n- **功能**：CPU是计算机的“大脑”，负责执行计算机程序中的指令。它进行算术运算、逻辑运算、控制和输入/输出（I/O）操作。\\n- **组成**：通常由控制单元（CU）、算术逻辑单元（ALU）和寄存器组成。\\n\\n#### b. **内存（RAM）**\\n- **功能**：随机存取存储器（RAM）用于临时存储正在使用的数据和程序。它是易失性存储器，计算机关机时数据会丢失。\\n- **类型**：动态随机存取存储器（DRAM）和静态随机存取存储器（SRAM）。\\n\\n#### c. **存储设备**\\n- **功能**：用于长时间存储数据，即使计算机关机数据也不会丢失。\\n- **类型**：硬盘驱动器（HDD'}\n"
     ]
    }
   ],
   "execution_count": 17
  },
  {
   "metadata": {
    "ExecuteTime": {
     "end_time": "2024-07-25T06:13:15.884625Z",
     "start_time": "2024-07-25T06:13:07.820704Z"
    }
   },
   "cell_type": "code",
   "source": [
    "print(\n",
    "    chain.invoke(\n",
    "        \"雷雨讲的是一个怎样的故事？\"\n",
    "    )\n",
    ")"
   ],
   "id": "87fc87b271c319d4",
   "outputs": [
    {
     "name": "stdout",
     "output_type": "stream",
     "text": [
      "\n",
      "\n",
      "\u001B[1m> Entering new MultiPromptChain chain...\u001B[0m\n",
      "汉语言文学: {'input': '雷雨讲的是一个怎样的故事？'}\n",
      "\u001B[1m> Finished chain.\u001B[0m\n",
      "{'input': '雷雨讲的是一个怎样的故事？', 'text': '《雷雨》是中国现代文学家曹禺创作的一部经典话剧，首次发表于1933年。它是一部四幕话剧，通过错综复杂的家庭关系和人物命运，揭示了20世纪初中国社会的种种矛盾和悲剧。\\n\\n### 故事背景\\n故事发生在一个富裕的家庭——周家，时间跨度从19世纪末到20世纪初，主要集中在一天之内。周家是一个典型的封建大家庭，表面上富丽堂皇，实则暗藏各种矛盾和罪恶。\\n\\n### 主要人物\\n- **周朴园**：周家的家长，一个富有而冷酷的资本家。\\n- **鲁侍萍**：周朴园的前妻，现为贫困的寡妇。\\n- **周蘩漪**：周朴园的现任妻子，性格压抑但内心充满反抗。\\n- **周萍**：周朴园与鲁侍萍的儿子，周家的长子，性格复杂矛盾。\\n- **周冲**：'}\n"
     ]
    }
   ],
   "execution_count": 18
  },
  {
   "metadata": {},
   "cell_type": "code",
   "outputs": [],
   "execution_count": null,
   "source": "",
   "id": "4b3283066d6365c6"
  }
 ],
 "metadata": {
  "kernelspec": {
   "display_name": "Python 3 (ipykernel)",
   "language": "python",
   "name": "python3"
  },
  "language_info": {
   "codemirror_mode": {
    "name": "ipython",
    "version": 3
   },
   "file_extension": ".py",
   "mimetype": "text/x-python",
   "name": "python",
   "nbconvert_exporter": "python",
   "pygments_lexer": "ipython3",
   "version": "3.10.14"
  }
 },
 "nbformat": 4,
 "nbformat_minor": 5
}
